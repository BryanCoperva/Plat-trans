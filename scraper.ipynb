{
 "cells": [
  {
   "cell_type": "markdown",
   "metadata": {},
   "source": [
    "# Scraper para obtener datos de servidores públicos"
   ]
  },
  {
   "cell_type": "code",
   "execution_count": 23,
   "metadata": {},
   "outputs": [],
   "source": [
    "from selenium import webdriver\n",
    "from selenium.webdriver.common.by import By\n",
    "from selenium.webdriver.common.keys import Keys\n",
    "from selenium.webdriver.chrome.options import Options\n",
    "from selenium.webdriver.support.ui import WebDriverWait\n",
    "from selenium.webdriver.support import expected_conditions as EC\n",
    "from selenium.common.exceptions import TimeoutException\n",
    "from selenium.common.exceptions import NoSuchElementException\n",
    "import time\n",
    "import pandas as pd\n",
    "from bs4 import BeautifulSoup\n",
    "import numpy as np"
   ]
  },
  {
   "cell_type": "markdown",
   "metadata": {},
   "source": [
    "## Conexión al navegador"
   ]
  },
  {
   "cell_type": "code",
   "execution_count": 38,
   "metadata": {},
   "outputs": [],
   "source": [
    "chrome_options = Options()\n",
    "driver = webdriver.Chrome(options=chrome_options)\n",
    "start_url = 'https://nominatransparente.rhnet.gob.mx/nomina-APF'\n",
    "driver.get(start_url)\n",
    "driver.execute_script(\"document.body.style.zoom='50%'\") \n",
    "\n",
    "    "
   ]
  },
  {
   "cell_type": "markdown",
   "metadata": {},
   "source": [
    "## Lectura de archivo csv para obtener nombres"
   ]
  },
  {
   "cell_type": "code",
   "execution_count": 40,
   "metadata": {},
   "outputs": [
    {
     "data": {
      "text/html": [
       "<div>\n",
       "<style scoped>\n",
       "    .dataframe tbody tr th:only-of-type {\n",
       "        vertical-align: middle;\n",
       "    }\n",
       "\n",
       "    .dataframe tbody tr th {\n",
       "        vertical-align: top;\n",
       "    }\n",
       "\n",
       "    .dataframe thead th {\n",
       "        text-align: right;\n",
       "    }\n",
       "</style>\n",
       "<table border=\"1\" class=\"dataframe\">\n",
       "  <thead>\n",
       "    <tr style=\"text-align: right;\">\n",
       "      <th></th>\n",
       "      <th>Nombre</th>\n",
       "      <th>Paterno</th>\n",
       "      <th>Materno</th>\n",
       "      <th>NombreCompleto</th>\n",
       "    </tr>\n",
       "  </thead>\n",
       "  <tbody>\n",
       "    <tr>\n",
       "      <th>0</th>\n",
       "      <td>Bryan Antonio</td>\n",
       "      <td>Polito</td>\n",
       "      <td>Palma</td>\n",
       "      <td>Bryan Antonio Polito Palma</td>\n",
       "    </tr>\n",
       "    <tr>\n",
       "      <th>1</th>\n",
       "      <td>Luis</td>\n",
       "      <td>Cruz</td>\n",
       "      <td>Jaramillo</td>\n",
       "      <td>Luis Cruz Jaramillo</td>\n",
       "    </tr>\n",
       "    <tr>\n",
       "      <th>2</th>\n",
       "      <td>Bryan Antonio</td>\n",
       "      <td>Polito</td>\n",
       "      <td>Palma</td>\n",
       "      <td>Bryan Antonio Polito Palma</td>\n",
       "    </tr>\n",
       "    <tr>\n",
       "      <th>3</th>\n",
       "      <td>José Alberto</td>\n",
       "      <td>Montán</td>\n",
       "      <td>López</td>\n",
       "      <td>José Alberto Montán López</td>\n",
       "    </tr>\n",
       "    <tr>\n",
       "      <th>4</th>\n",
       "      <td>Andres Manuel</td>\n",
       "      <td>Lopez</td>\n",
       "      <td>Obrador</td>\n",
       "      <td>Andres Manuel Lopez Obrador</td>\n",
       "    </tr>\n",
       "    <tr>\n",
       "      <th>5</th>\n",
       "      <td>Jorge Luis</td>\n",
       "      <td>Lopez</td>\n",
       "      <td></td>\n",
       "      <td>Jorge Luis Lopez</td>\n",
       "    </tr>\n",
       "    <tr>\n",
       "      <th>6</th>\n",
       "      <td>Juan de Dios</td>\n",
       "      <td>Olivares</td>\n",
       "      <td>Jimenez</td>\n",
       "      <td>Juan de Dios  Olivares Jimenez</td>\n",
       "    </tr>\n",
       "    <tr>\n",
       "      <th>7</th>\n",
       "      <td>Bryan Antonio</td>\n",
       "      <td>Polito</td>\n",
       "      <td>Palma</td>\n",
       "      <td>Bryan Antonio Polito Palma</td>\n",
       "    </tr>\n",
       "    <tr>\n",
       "      <th>8</th>\n",
       "      <td>José Alberto</td>\n",
       "      <td>Montán</td>\n",
       "      <td>López</td>\n",
       "      <td>José Alberto Montán López</td>\n",
       "    </tr>\n",
       "  </tbody>\n",
       "</table>\n",
       "</div>"
      ],
      "text/plain": [
       "          Nombre   Paterno    Materno                  NombreCompleto\n",
       "0  Bryan Antonio    Polito      Palma      Bryan Antonio Polito Palma\n",
       "1           Luis      Cruz  Jaramillo             Luis Cruz Jaramillo\n",
       "2  Bryan Antonio    Polito      Palma      Bryan Antonio Polito Palma\n",
       "3   José Alberto    Montán      López       José Alberto Montán López\n",
       "4  Andres Manuel     Lopez    Obrador     Andres Manuel Lopez Obrador\n",
       "5     Jorge Luis     Lopez                          Jorge Luis Lopez \n",
       "6  Juan de Dios   Olivares    Jimenez  Juan de Dios  Olivares Jimenez\n",
       "7  Bryan Antonio    Polito      Palma      Bryan Antonio Polito Palma\n",
       "8   José Alberto    Montán      López       José Alberto Montán López"
      ]
     },
     "execution_count": 40,
     "metadata": {},
     "output_type": "execute_result"
    }
   ],
   "source": [
    "df = pd.read_csv('ejemplo.csv', keep_default_na=False) \n",
    "df['NombreCompleto'] = df.apply(lambda row: f\"{row['Nombre']} {row['Paterno']} {row['Materno']}\", axis=1)\n",
    "\n",
    "df"
   ]
  },
  {
   "cell_type": "code",
   "execution_count": 41,
   "metadata": {},
   "outputs": [
    {
     "name": "stdout",
     "output_type": "stream",
     "text": [
      "Bryan Antonio Polito Palma\n"
     ]
    },
    {
     "ename": "ElementClickInterceptedException",
     "evalue": "Message: element click intercepted: Element is not clickable at point (1410, 1031)\n  (Session info: chrome=114.0.5735.199)\nStacktrace:\nBacktrace:\n\tGetHandleVerifier [0x011AA813+48355]\n\t(No symbol) [0x0113C4B1]\n\t(No symbol) [0x01045358]\n\t(No symbol) [0x01075062]\n\t(No symbol) [0x01073B98]\n\t(No symbol) [0x0107239B]\n\t(No symbol) [0x0107179E]\n\t(No symbol) [0x01069F5C]\n\t(No symbol) [0x0108A73C]\n\t(No symbol) [0x01069A36]\n\t(No symbol) [0x0108AA94]\n\t(No symbol) [0x0109C922]\n\t(No symbol) [0x0108A536]\n\t(No symbol) [0x010682DC]\n\t(No symbol) [0x010693DD]\n\tGetHandleVerifier [0x0140AABD+2539405]\n\tGetHandleVerifier [0x0144A78F+2800735]\n\tGetHandleVerifier [0x0144456C+2775612]\n\tGetHandleVerifier [0x012351E0+616112]\n\t(No symbol) [0x01145F8C]\n\t(No symbol) [0x01142328]\n\t(No symbol) [0x0114240B]\n\t(No symbol) [0x01134FF7]\n\tBaseThreadInitThunk [0x773805C9+25]\n\tRtlGetAppContainerNamedObjectPath [0x77D977AD+237]\n\tRtlGetAppContainerNamedObjectPath [0x77D9777D+189]\n",
     "output_type": "error",
     "traceback": [
      "\u001b[1;31m---------------------------------------------------------------------------\u001b[0m",
      "\u001b[1;31mElementClickInterceptedException\u001b[0m          Traceback (most recent call last)",
      "Cell \u001b[1;32mIn[41], line 11\u001b[0m\n\u001b[0;32m      9\u001b[0m buscar \u001b[39m=\u001b[39m driver\u001b[39m.\u001b[39mfind_element(By\u001b[39m.\u001b[39mXPATH, \u001b[39m'\u001b[39m\u001b[39m/html/body/app-root/app-apf/div[2]/div[1]/div[3]/div/div[3]/a\u001b[39m\u001b[39m'\u001b[39m)\n\u001b[0;32m     10\u001b[0m \u001b[39m#WebDriverWait(driver, 10)\u001b[39;00m\n\u001b[1;32m---> 11\u001b[0m buscar\u001b[39m.\u001b[39;49mclick()\n\u001b[0;32m     13\u001b[0m time\u001b[39m.\u001b[39msleep(\u001b[39m5\u001b[39m)\n\u001b[0;32m     14\u001b[0m \u001b[39m# Obtener identificadores de ventanas\u001b[39;00m\n",
      "File \u001b[1;32mc:\\Users\\DSTHREE\\AppData\\Local\\anaconda3\\lib\\site-packages\\selenium\\webdriver\\remote\\webelement.py:94\u001b[0m, in \u001b[0;36mWebElement.click\u001b[1;34m(self)\u001b[0m\n\u001b[0;32m     92\u001b[0m \u001b[39mdef\u001b[39;00m \u001b[39mclick\u001b[39m(\u001b[39mself\u001b[39m) \u001b[39m-\u001b[39m\u001b[39m>\u001b[39m \u001b[39mNone\u001b[39;00m:\n\u001b[0;32m     93\u001b[0m     \u001b[39m\"\"\"Clicks the element.\"\"\"\u001b[39;00m\n\u001b[1;32m---> 94\u001b[0m     \u001b[39mself\u001b[39;49m\u001b[39m.\u001b[39;49m_execute(Command\u001b[39m.\u001b[39;49mCLICK_ELEMENT)\n",
      "File \u001b[1;32mc:\\Users\\DSTHREE\\AppData\\Local\\anaconda3\\lib\\site-packages\\selenium\\webdriver\\remote\\webelement.py:395\u001b[0m, in \u001b[0;36mWebElement._execute\u001b[1;34m(self, command, params)\u001b[0m\n\u001b[0;32m    393\u001b[0m     params \u001b[39m=\u001b[39m {}\n\u001b[0;32m    394\u001b[0m params[\u001b[39m\"\u001b[39m\u001b[39mid\u001b[39m\u001b[39m\"\u001b[39m] \u001b[39m=\u001b[39m \u001b[39mself\u001b[39m\u001b[39m.\u001b[39m_id\n\u001b[1;32m--> 395\u001b[0m \u001b[39mreturn\u001b[39;00m \u001b[39mself\u001b[39;49m\u001b[39m.\u001b[39;49m_parent\u001b[39m.\u001b[39;49mexecute(command, params)\n",
      "File \u001b[1;32mc:\\Users\\DSTHREE\\AppData\\Local\\anaconda3\\lib\\site-packages\\selenium\\webdriver\\remote\\webdriver.py:346\u001b[0m, in \u001b[0;36mWebDriver.execute\u001b[1;34m(self, driver_command, params)\u001b[0m\n\u001b[0;32m    344\u001b[0m response \u001b[39m=\u001b[39m \u001b[39mself\u001b[39m\u001b[39m.\u001b[39mcommand_executor\u001b[39m.\u001b[39mexecute(driver_command, params)\n\u001b[0;32m    345\u001b[0m \u001b[39mif\u001b[39;00m response:\n\u001b[1;32m--> 346\u001b[0m     \u001b[39mself\u001b[39;49m\u001b[39m.\u001b[39;49merror_handler\u001b[39m.\u001b[39;49mcheck_response(response)\n\u001b[0;32m    347\u001b[0m     response[\u001b[39m\"\u001b[39m\u001b[39mvalue\u001b[39m\u001b[39m\"\u001b[39m] \u001b[39m=\u001b[39m \u001b[39mself\u001b[39m\u001b[39m.\u001b[39m_unwrap_value(response\u001b[39m.\u001b[39mget(\u001b[39m\"\u001b[39m\u001b[39mvalue\u001b[39m\u001b[39m\"\u001b[39m, \u001b[39mNone\u001b[39;00m))\n\u001b[0;32m    348\u001b[0m     \u001b[39mreturn\u001b[39;00m response\n",
      "File \u001b[1;32mc:\\Users\\DSTHREE\\AppData\\Local\\anaconda3\\lib\\site-packages\\selenium\\webdriver\\remote\\errorhandler.py:245\u001b[0m, in \u001b[0;36mErrorHandler.check_response\u001b[1;34m(self, response)\u001b[0m\n\u001b[0;32m    243\u001b[0m         alert_text \u001b[39m=\u001b[39m value[\u001b[39m\"\u001b[39m\u001b[39malert\u001b[39m\u001b[39m\"\u001b[39m]\u001b[39m.\u001b[39mget(\u001b[39m\"\u001b[39m\u001b[39mtext\u001b[39m\u001b[39m\"\u001b[39m)\n\u001b[0;32m    244\u001b[0m     \u001b[39mraise\u001b[39;00m exception_class(message, screen, stacktrace, alert_text)  \u001b[39m# type: ignore[call-arg]  # mypy is not smart enough here\u001b[39;00m\n\u001b[1;32m--> 245\u001b[0m \u001b[39mraise\u001b[39;00m exception_class(message, screen, stacktrace)\n",
      "\u001b[1;31mElementClickInterceptedException\u001b[0m: Message: element click intercepted: Element is not clickable at point (1410, 1031)\n  (Session info: chrome=114.0.5735.199)\nStacktrace:\nBacktrace:\n\tGetHandleVerifier [0x011AA813+48355]\n\t(No symbol) [0x0113C4B1]\n\t(No symbol) [0x01045358]\n\t(No symbol) [0x01075062]\n\t(No symbol) [0x01073B98]\n\t(No symbol) [0x0107239B]\n\t(No symbol) [0x0107179E]\n\t(No symbol) [0x01069F5C]\n\t(No symbol) [0x0108A73C]\n\t(No symbol) [0x01069A36]\n\t(No symbol) [0x0108AA94]\n\t(No symbol) [0x0109C922]\n\t(No symbol) [0x0108A536]\n\t(No symbol) [0x010682DC]\n\t(No symbol) [0x010693DD]\n\tGetHandleVerifier [0x0140AABD+2539405]\n\tGetHandleVerifier [0x0144A78F+2800735]\n\tGetHandleVerifier [0x0144456C+2775612]\n\tGetHandleVerifier [0x012351E0+616112]\n\t(No symbol) [0x01145F8C]\n\t(No symbol) [0x01142328]\n\t(No symbol) [0x0114240B]\n\t(No symbol) [0x01134FF7]\n\tBaseThreadInitThunk [0x773805C9+25]\n\tRtlGetAppContainerNamedObjectPath [0x77D977AD+237]\n\tRtlGetAppContainerNamedObjectPath [0x77D9777D+189]\n"
     ]
    }
   ],
   "source": [
    "data = [ ]\n",
    "\n",
    "for i in df['NombreCompleto']:\n",
    "    print(i)\n",
    "    #WebDriverWait(driver, 10)\n",
    "    nombre = driver.find_element(By.XPATH, '//*[@id=\"apfName\"]')\n",
    "    nombre.send_keys(i)\n",
    "    #WebDriverWait(driver, 10)\n",
    "    buscar = driver.find_element(By.XPATH, '/html/body/app-root/app-apf/div[2]/div[1]/div[3]/div/div[3]/a')\n",
    "    #WebDriverWait(driver, 10)\n",
    "    buscar.click()\n",
    "    \n",
    "    time.sleep(5)\n",
    "    # Obtener identificadores de ventanas\n",
    "    ventanas = driver.window_handles\n",
    "    \n",
    "    # Cambiar al controlador de la ventana emergente\n",
    "    \n",
    "    try:\n",
    "    # Buscar y hacer clic en el botón dentro de la ventana emergente\n",
    "        driver.switch_to.window(ventanas[-1])\n",
    "        ok_button = driver.find_element(By.CSS_SELECTOR, 'button.swal2-confirm.swal2-styled')\n",
    "        ok_button.click()\n",
    "        print('Se encontró el botón')\n",
    "    except NoSuchElementException:\n",
    "        html_table = driver.page_source\n",
    "    \n",
    "        # Crear un objeto BeatifulSoup para analizar el html\n",
    "        soup = BeautifulSoup(html_table, 'html.parser')\n",
    "        \n",
    "        # Encontrar todas las finlas de la tabla\n",
    "        rows = soup.find_all('tr')\n",
    "        \n",
    "        for row in rows:\n",
    "            cells = row.find_all('td')\n",
    "            # Extraer el texto de cada celda y agregarlo a la lista de datos \n",
    "            row_data = [cell.get_text(strip=True) for cell in cells]\n",
    "            row_data = [cell.split(\":\")[1].strip() for cell in row_data if \":\" in cell]\n",
    "            data.append(row_data)\n",
    "        nombre.clear()\n",
    "        \n",
    "        pass\n",
    "\n",
    "    \n",
    "        \n",
    "df = pd.DataFrame(data)\n",
    "    \n",
    "# Asignar nombres a las columnas\n",
    "df.columns = ['Número', 'Nombre', 'Institución', 'Puesto', 'Sueldo_bruto_mensual', 'Sueldo_neto_estimado' ]\n",
    "df.dropna(inplace=True)\n",
    "df\n",
    "\n",
    "    \n",
    "   \n",
    "    \n",
    "    \n",
    "\n",
    "    # Ingresar nombre\n",
    "    "
   ]
  }
 ],
 "metadata": {
  "kernelspec": {
   "display_name": "base",
   "language": "python",
   "name": "python3"
  },
  "language_info": {
   "codemirror_mode": {
    "name": "ipython",
    "version": 3
   },
   "file_extension": ".py",
   "mimetype": "text/x-python",
   "name": "python",
   "nbconvert_exporter": "python",
   "pygments_lexer": "ipython3",
   "version": "3.9.1"
  },
  "orig_nbformat": 4
 },
 "nbformat": 4,
 "nbformat_minor": 2
}
